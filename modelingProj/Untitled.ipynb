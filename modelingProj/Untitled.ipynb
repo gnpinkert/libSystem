{
 "cells": [
  {
   "cell_type": "code",
   "execution_count": 16,
   "metadata": {},
   "outputs": [],
   "source": [
    "class Employee:\n",
    "    Firstname = \"Tillman\"\n",
    "    mid_init = \"D\"\n",
    "    Lastname = \"Findley\"\n",
    "    Login_ID = \"tillman000\"\n",
    "    Password = \"tillmanf\"\n",
    "    DateAdded = \"5/10/14\"\n",
    "    Email = \"tillman@argonautslibrary.com\"\n",
    "    Address = \"432 College St. Auburn AL\"\n",
    "    Contact = \"Work Phone: 541-324-9834\""
   ]
  },
  {
   "cell_type": "code",
   "execution_count": 17,
   "metadata": {},
   "outputs": [
    {
     "name": "stdout",
     "output_type": "stream",
     "text": [
      "Tillman\n"
     ]
    }
   ],
   "source": [
    "data = Employee()\n",
    "print data.Firstname"
   ]
  },
  {
   "cell_type": "code",
   "execution_count": null,
   "metadata": {
    "collapsed": true
   },
   "outputs": [],
   "source": []
  }
 ],
 "metadata": {
  "kernelspec": {
   "display_name": "Python 2",
   "language": "python",
   "name": "python2"
  },
  "language_info": {
   "codemirror_mode": {
    "name": "ipython",
    "version": 2
   },
   "file_extension": ".py",
   "mimetype": "text/x-python",
   "name": "python",
   "nbconvert_exporter": "python",
   "pygments_lexer": "ipython2",
   "version": "2.7.13"
  }
 },
 "nbformat": 4,
 "nbformat_minor": 2
}
